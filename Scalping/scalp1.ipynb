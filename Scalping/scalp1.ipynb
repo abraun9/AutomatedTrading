{
 "cells": [
  {
   "cell_type": "markdown",
   "metadata": {},
   "source": [
    "#### Indicators\n",
    "- Fast moving average\n",
    "- Slow moving average\n",
    "- Bolinger Bands\n",
    "\n",
    "#### Trends\n",
    "- if fast moving average above slow moving average, indicates up trend (Buys)\n",
    "- if fast moving average below slow moving average, indicates down trend (Short)\n",
    "- Use Bollinger Band edges to trigger buys and sells\n",
    "\n",
    "#### Conditions\n",
    "- If in up trend and asset closes below low bollinger edge, buy\n",
    "- If in down trend and asset closes above high bollinger edge, short\n",
    "- Stop loss/Take profit based on volitility"
   ]
  },
  {
   "cell_type": "code",
   "execution_count": null,
   "metadata": {},
   "outputs": [],
   "source": [
    "import pandas as pd\n",
    "import pandas_ta as ta\n",
    "\n",
    "df = pd.read_csv()"
   ]
  }
 ],
 "metadata": {
  "kernelspec": {
   "display_name": "base",
   "language": "python",
   "name": "python3"
  },
  "language_info": {
   "codemirror_mode": {
    "name": "ipython",
    "version": 3
   },
   "file_extension": ".py",
   "mimetype": "text/x-python",
   "name": "python",
   "nbconvert_exporter": "python",
   "pygments_lexer": "ipython3",
   "version": "3.8.8"
  }
 },
 "nbformat": 4,
 "nbformat_minor": 2
}
